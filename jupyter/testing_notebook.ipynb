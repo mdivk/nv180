import sys,os
os.environ["SPARK_HOME"] = '/opt/cloudera/parcels/SPARK2/lib/spark2'
os.environ['PYSPARK_PYTHON'] = '/usr/bin/python'
os.environ['PYSPARK_DRIVER_PYTHON'] = '/usr/bin/python'
os.environ['JAVA_HOME'] = '/usr/java/latest'
os.environ['HADOOP_CONF_DIR'] = '/etc/hive/conf'
sys.path.append('/opt/cloudera/parcels/CDH/lib/spark/python')
sys.path.append('/opt/cloudera/parcels/CDH/lib/spark/python/lib/py4j-0.9-src.zip')
import pyspark
from pyspark import SparkContext, SparkConf
conf = SparkConf()
conf.setMaster('yarn-client')
conf.setAppName('test')
sc = SparkContext.getOrCreate()
r = sc.textFile("data.csv")
r.collect()
