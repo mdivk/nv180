{
 "cells": [
  {
   "cell_type": "markdown",
   "metadata": {},
   "source": [
    "# Spark Context with R kernel"
   ]
  },
  {
   "cell_type": "markdown",
   "metadata": {},
   "source": [
    "### This notebook demos how to start a new Spark Context with R kernel\n",
    "### All needed interfaces have been set up in advance"
   ]
  },
  {
   "cell_type": "markdown",
   "metadata": {},
   "source": [
    "#### 1. First of all, import SparklyR library"
   ]
  },
  {
   "cell_type": "code",
   "execution_count": 1,
   "metadata": {},
   "outputs": [],
   "source": [
    "library(sparklyr)"
   ]
  },
  {
   "cell_type": "markdown",
   "metadata": {},
   "source": [
    "#### 2 . Second, attaching dplyr package"
   ]
  },
  {
   "cell_type": "code",
   "execution_count": 2,
   "metadata": {},
   "outputs": [
    {
     "name": "stderr",
     "output_type": "stream",
     "text": [
      "\n",
      "Attaching package: ‘dplyr’\n",
      "\n",
      "The following objects are masked from ‘package:stats’:\n",
      "\n",
      "    filter, lag\n",
      "\n",
      "The following objects are masked from ‘package:base’:\n",
      "\n",
      "    intersect, setdiff, setequal, union\n",
      "\n"
     ]
    }
   ],
   "source": [
    "library(dplyr)"
   ]
  },
  {
   "cell_type": "markdown",
   "metadata": {},
   "source": [
    "#### 3. With needed library/package in place, we can now create a Spark Context\n",
    "#### 4. The master could be set to \"local\", or \"yarn-client\", note spark_home must be defined here "
   ]
  },
  {
   "cell_type": "code",
   "execution_count": 3,
   "metadata": {},
   "outputs": [],
   "source": [
    "sc<-spark_connect(master=\"yarn-client\",spark_home=\"/opt/cloudera/parcels/SPARK2/lib/spark2\", app_name=\"test\")"
   ]
  },
  {
   "cell_type": "markdown",
   "metadata": {},
   "source": [
    "#### 5. Verify the Spark Context has been created on \"yarn-client\" mode"
   ]
  },
  {
   "cell_type": "code",
   "execution_count": 4,
   "metadata": {},
   "outputs": [
    {
     "data": {
      "text/plain": [
       "$master\n",
       "[1] \"yarn-client\"\n",
       "\n",
       "$method\n",
       "[1] \"shell\"\n",
       "\n",
       "$app_name\n",
       "[1] \"test\"\n",
       "\n",
       "$config\n",
       "$config$spark.env.SPARK_LOCAL_IP.local\n",
       "[1] \"127.0.0.1\"\n",
       "\n",
       "$config$sparklyr.connect.csv.embedded\n",
       "[1] \"^1.*\"\n",
       "\n",
       "$config$spark.sql.catalogImplementation\n",
       "[1] \"hive\"\n",
       "\n",
       "$config$sparklyr.connect.cores.local\n",
       "[1] 4\n",
       "\n",
       "$config$spark.sql.shuffle.partitions.local\n",
       "[1] 4\n",
       "\n",
       "attr(,\"config\")\n",
       "[1] \"default\"\n",
       "attr(,\"file\")\n",
       "[1] \"/opt/cloudera/parcels/Anaconda-4.2.0/lib/R/library/sparklyr/conf/config-template.yml\"\n",
       "\n",
       "$state\n",
       "<environment: 0x2f8faa0>\n",
       "\n",
       "$spark_home\n",
       "[1] \"/opt/cloudera/parcels/SPARK2-2.3.0.cloudera3-1.cdh5.13.3.p0.458809/lib/spark2\"\n",
       "\n",
       "$backend\n",
       "A connection with                              \n",
       "description \"->localhost:8883\"\n",
       "class       \"sockconn\"        \n",
       "mode        \"wb\"              \n",
       "text        \"binary\"          \n",
       "opened      \"opened\"          \n",
       "can read    \"yes\"             \n",
       "can write   \"yes\"             \n",
       "\n",
       "$monitoring\n",
       "A connection with                              \n",
       "description \"->localhost:8883\"\n",
       "class       \"sockconn\"        \n",
       "mode        \"wb\"              \n",
       "text        \"binary\"          \n",
       "opened      \"opened\"          \n",
       "can read    \"yes\"             \n",
       "can write   \"yes\"             \n",
       "\n",
       "$gateway\n",
       "A connection with                              \n",
       "description \"->localhost:8882\"\n",
       "class       \"sockconn\"        \n",
       "mode        \"rb\"              \n",
       "text        \"binary\"          \n",
       "opened      \"opened\"          \n",
       "can read    \"yes\"             \n",
       "can write   \"yes\"             \n",
       "\n",
       "$output_file\n",
       "[1] \"/tmp/RtmpLaHx07/file16036832a7c0_spark.log\"\n",
       "\n",
       "$sessionId\n",
       "[1] 65651\n",
       "\n",
       "attr(,\"class\")\n",
       "[1] \"spark_connection\"       \"spark_shell_connection\" \"DBIConnection\"         "
      ]
     },
     "metadata": {},
     "output_type": "display_data"
    }
   ],
   "source": [
    "sc"
   ]
  },
  {
   "cell_type": "markdown",
   "metadata": {},
   "source": [
    "#### 6. Validate the sc is working on the cluster"
   ]
  },
  {
   "cell_type": "code",
   "execution_count": 5,
   "metadata": {},
   "outputs": [
    {
     "data": {
      "text/html": [
       "<ol class=list-inline>\n",
       "\t<li>'al2_test'</li>\n",
       "\t<li>'as_avro'</li>\n",
       "\t<li>'blank_table'</li>\n",
       "\t<li>'bmo_dim_active'</li>\n",
       "\t<li>'bmo_dim_costcenter'</li>\n",
       "\t<li>'bmo_dim_positions'</li>\n",
       "\t<li>'bmo_dim_positions_kb'</li>\n",
       "\t<li>'bmo_dim_trxntype'</li>\n",
       "\t<li>'bmo_fact_trxn'</li>\n",
       "\t<li>'bnsc_dim_active'</li>\n",
       "\t<li>'bnsc_dim_costcenter'</li>\n",
       "\t<li>'bnsc_dim_positions'</li>\n",
       "\t<li>'bnsc_dim_trxntype'</li>\n",
       "\t<li>'bnsc_fact_fte'</li>\n",
       "\t<li>'bnsc_fact_trxn'</li>\n",
       "\t<li>'bom_dim_trxntype'</li>\n",
       "\t<li>'build1'</li>\n",
       "\t<li>'build2'</li>\n",
       "\t<li>'build3'</li>\n",
       "\t<li>'build4'</li>\n",
       "\t<li>'build5'</li>\n",
       "\t<li>'customers'</li>\n",
       "\t<li>'dimdate'</li>\n",
       "\t<li>'harryperformancemeasuringtmp'</li>\n",
       "\t<li>'modelerrortmp'</li>\n",
       "\t<li>'modelerrortmp2'</li>\n",
       "\t<li>'mtz_temp_922a'</li>\n",
       "\t<li>'nullmetric2'</li>\n",
       "\t<li>'nullmetric3'</li>\n",
       "\t<li>'nullmetric4'</li>\n",
       "\t<li>'outputtable'</li>\n",
       "\t<li>'sample_07'</li>\n",
       "\t<li>'sample_08'</li>\n",
       "\t<li>'ss_table1'</li>\n",
       "\t<li>'ss_table2'</li>\n",
       "\t<li>'tabletoberemoved2'</li>\n",
       "\t<li>'tbl_balcustflowfinalhistm_wfgo_subset_date_rename'</li>\n",
       "\t<li>'tbl_sqlalchemy_ds'</li>\n",
       "\t<li>'test_ks2'</li>\n",
       "\t<li>'toberemovedtable1'</li>\n",
       "\t<li>'v5_tdct_customer_first_product_version4'</li>\n",
       "\t<li>'v8_bnsc_customer_first_product_version4'</li>\n",
       "\t<li>'v9_rbc_customer_first_product_version4'</li>\n",
       "\t<li>'web_logs'</li>\n",
       "\t<li>'yellow_tripdata_201701'</li>\n",
       "</ol>\n"
      ],
      "text/latex": [
       "\\begin{enumerate*}\n",
       "\\item 'al2\\_test'\n",
       "\\item 'as\\_avro'\n",
       "\\item 'blank\\_table'\n",
       "\\item 'bmo\\_dim\\_active'\n",
       "\\item 'bmo\\_dim\\_costcenter'\n",
       "\\item 'bmo\\_dim\\_positions'\n",
       "\\item 'bmo\\_dim\\_positions\\_kb'\n",
       "\\item 'bmo\\_dim\\_trxntype'\n",
       "\\item 'bmo\\_fact\\_trxn'\n",
       "\\item 'bnsc\\_dim\\_active'\n",
       "\\item 'bnsc\\_dim\\_costcenter'\n",
       "\\item 'bnsc\\_dim\\_positions'\n",
       "\\item 'bnsc\\_dim\\_trxntype'\n",
       "\\item 'bnsc\\_fact\\_fte'\n",
       "\\item 'bnsc\\_fact\\_trxn'\n",
       "\\item 'bom\\_dim\\_trxntype'\n",
       "\\item 'build1'\n",
       "\\item 'build2'\n",
       "\\item 'build3'\n",
       "\\item 'build4'\n",
       "\\item 'build5'\n",
       "\\item 'customers'\n",
       "\\item 'dimdate'\n",
       "\\item 'harryperformancemeasuringtmp'\n",
       "\\item 'modelerrortmp'\n",
       "\\item 'modelerrortmp2'\n",
       "\\item 'mtz\\_temp\\_922a'\n",
       "\\item 'nullmetric2'\n",
       "\\item 'nullmetric3'\n",
       "\\item 'nullmetric4'\n",
       "\\item 'outputtable'\n",
       "\\item 'sample\\_07'\n",
       "\\item 'sample\\_08'\n",
       "\\item 'ss\\_table1'\n",
       "\\item 'ss\\_table2'\n",
       "\\item 'tabletoberemoved2'\n",
       "\\item 'tbl\\_balcustflowfinalhistm\\_wfgo\\_subset\\_date\\_rename'\n",
       "\\item 'tbl\\_sqlalchemy\\_ds'\n",
       "\\item 'test\\_ks2'\n",
       "\\item 'toberemovedtable1'\n",
       "\\item 'v5\\_tdct\\_customer\\_first\\_product\\_version4'\n",
       "\\item 'v8\\_bnsc\\_customer\\_first\\_product\\_version4'\n",
       "\\item 'v9\\_rbc\\_customer\\_first\\_product\\_version4'\n",
       "\\item 'web\\_logs'\n",
       "\\item 'yellow\\_tripdata\\_201701'\n",
       "\\end{enumerate*}\n"
      ],
      "text/markdown": [
       "1. 'al2_test'\n",
       "2. 'as_avro'\n",
       "3. 'blank_table'\n",
       "4. 'bmo_dim_active'\n",
       "5. 'bmo_dim_costcenter'\n",
       "6. 'bmo_dim_positions'\n",
       "7. 'bmo_dim_positions_kb'\n",
       "8. 'bmo_dim_trxntype'\n",
       "9. 'bmo_fact_trxn'\n",
       "10. 'bnsc_dim_active'\n",
       "11. 'bnsc_dim_costcenter'\n",
       "12. 'bnsc_dim_positions'\n",
       "13. 'bnsc_dim_trxntype'\n",
       "14. 'bnsc_fact_fte'\n",
       "15. 'bnsc_fact_trxn'\n",
       "16. 'bom_dim_trxntype'\n",
       "17. 'build1'\n",
       "18. 'build2'\n",
       "19. 'build3'\n",
       "20. 'build4'\n",
       "21. 'build5'\n",
       "22. 'customers'\n",
       "23. 'dimdate'\n",
       "24. 'harryperformancemeasuringtmp'\n",
       "25. 'modelerrortmp'\n",
       "26. 'modelerrortmp2'\n",
       "27. 'mtz_temp_922a'\n",
       "28. 'nullmetric2'\n",
       "29. 'nullmetric3'\n",
       "30. 'nullmetric4'\n",
       "31. 'outputtable'\n",
       "32. 'sample_07'\n",
       "33. 'sample_08'\n",
       "34. 'ss_table1'\n",
       "35. 'ss_table2'\n",
       "36. 'tabletoberemoved2'\n",
       "37. 'tbl_balcustflowfinalhistm_wfgo_subset_date_rename'\n",
       "38. 'tbl_sqlalchemy_ds'\n",
       "39. 'test_ks2'\n",
       "40. 'toberemovedtable1'\n",
       "41. 'v5_tdct_customer_first_product_version4'\n",
       "42. 'v8_bnsc_customer_first_product_version4'\n",
       "43. 'v9_rbc_customer_first_product_version4'\n",
       "44. 'web_logs'\n",
       "45. 'yellow_tripdata_201701'\n",
       "\n",
       "\n"
      ],
      "text/plain": [
       " [1] \"al2_test\"                                         \n",
       " [2] \"as_avro\"                                          \n",
       " [3] \"blank_table\"                                      \n",
       " [4] \"bmo_dim_active\"                                   \n",
       " [5] \"bmo_dim_costcenter\"                               \n",
       " [6] \"bmo_dim_positions\"                                \n",
       " [7] \"bmo_dim_positions_kb\"                             \n",
       " [8] \"bmo_dim_trxntype\"                                 \n",
       " [9] \"bmo_fact_trxn\"                                    \n",
       "[10] \"bnsc_dim_active\"                                  \n",
       "[11] \"bnsc_dim_costcenter\"                              \n",
       "[12] \"bnsc_dim_positions\"                               \n",
       "[13] \"bnsc_dim_trxntype\"                                \n",
       "[14] \"bnsc_fact_fte\"                                    \n",
       "[15] \"bnsc_fact_trxn\"                                   \n",
       "[16] \"bom_dim_trxntype\"                                 \n",
       "[17] \"build1\"                                           \n",
       "[18] \"build2\"                                           \n",
       "[19] \"build3\"                                           \n",
       "[20] \"build4\"                                           \n",
       "[21] \"build5\"                                           \n",
       "[22] \"customers\"                                        \n",
       "[23] \"dimdate\"                                          \n",
       "[24] \"harryperformancemeasuringtmp\"                     \n",
       "[25] \"modelerrortmp\"                                    \n",
       "[26] \"modelerrortmp2\"                                   \n",
       "[27] \"mtz_temp_922a\"                                    \n",
       "[28] \"nullmetric2\"                                      \n",
       "[29] \"nullmetric3\"                                      \n",
       "[30] \"nullmetric4\"                                      \n",
       "[31] \"outputtable\"                                      \n",
       "[32] \"sample_07\"                                        \n",
       "[33] \"sample_08\"                                        \n",
       "[34] \"ss_table1\"                                        \n",
       "[35] \"ss_table2\"                                        \n",
       "[36] \"tabletoberemoved2\"                                \n",
       "[37] \"tbl_balcustflowfinalhistm_wfgo_subset_date_rename\"\n",
       "[38] \"tbl_sqlalchemy_ds\"                                \n",
       "[39] \"test_ks2\"                                         \n",
       "[40] \"toberemovedtable1\"                                \n",
       "[41] \"v5_tdct_customer_first_product_version4\"          \n",
       "[42] \"v8_bnsc_customer_first_product_version4\"          \n",
       "[43] \"v9_rbc_customer_first_product_version4\"           \n",
       "[44] \"web_logs\"                                         \n",
       "[45] \"yellow_tripdata_201701\"                           "
      ]
     },
     "metadata": {},
     "output_type": "display_data"
    }
   ],
   "source": [
    "src_tbls(sc)"
   ]
  },
  {
   "cell_type": "code",
   "execution_count": null,
   "metadata": {},
   "outputs": [],
   "source": []
  }
 ],
 "metadata": {
  "kernelspec": {
   "display_name": "R",
   "language": "R",
   "name": "ir"
  },
  "language_info": {
   "codemirror_mode": "r",
   "file_extension": ".r",
   "mimetype": "text/x-r-source",
   "name": "R",
   "pygments_lexer": "r",
   "version": "3.5.1"
  }
 },
 "nbformat": 4,
 "nbformat_minor": 2
}
