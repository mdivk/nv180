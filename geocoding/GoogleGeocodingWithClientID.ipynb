{
 "cells": [
  {
   "cell_type": "code",
   "execution_count": 1,
   "metadata": {},
   "outputs": [],
   "source": [
    "import hashlib\n",
    "import hmac\n",
    "import base64\n",
    "import urllib.parse\n",
    "import requests"
   ]
  },
  {
   "cell_type": "code",
   "execution_count": 11,
   "metadata": {},
   "outputs": [],
   "source": [
    "def sign_url(input_url=None, secret=None):\n",
    "  \"\"\" Sign a request URL with a URL signing secret.\n",
    "\n",
    "      Usage:\n",
    "      from urlsigner import sign_url\n",
    "\n",
    "      signed_url = sign_url(input_url=my_url, secret=SECRET)\n",
    "\n",
    "      Args:\n",
    "      input_url - The URL to sign\n",
    "      secret    - Your URL signing secret\n",
    "\n",
    "      Returns:\n",
    "      The signed request URL\n",
    "  \"\"\"\n",
    "\n",
    "  if not input_url or not secret:\n",
    "    raise Exception(\"Both input_url and secret are required\")\n",
    "\n",
    "  url = urllib.parse.urlparse(input_url)\n",
    "\n",
    "  # We only need to sign the path+query part of the string\n",
    "  url_to_sign = url.path + \"?\" + url.query\n",
    "\n",
    "  # Decode the private key into its binary format\n",
    "  # We need to decode the URL-encoded private key\n",
    "  decoded_key = base64.urlsafe_b64decode(secret)\n",
    "\n",
    "  # Create a signature using the private key and the URL-encoded\n",
    "  # string using HMAC SHA1. This signature will be binary.\n",
    "  signature = hmac.new(decoded_key, url_to_sign.encode('utf-8'), hashlib.sh                                                       a1)\n",
    "\n",
    "  # Encode the binary signature into base64 for use within a URL\n",
    "  encoded_signature = base64.urlsafe_b64encode(signature.digest())\n",
    "\n",
    "  original_url = url.scheme + \"://\" + url.netloc + url.path + \"?\" + url                                                       .query\n",
    "\n",
    "  # Return signed URL\n",
    "  return original_url + \"&signature=\" + encoded_signature.decode('ascii')                                                       "
   ]
  },
  {
   "cell_type": "code",
   "execution_count": 3,
   "metadata": {},
   "outputs": [],
   "source": [
    "input_url = \"https://maps.googleapis.com/maps/api/directions/json?origin=T                                                       oronto&destination=Montreal&client=gme-company\""
   ]
  },
  {
   "cell_type": "code",
   "execution_count": 4,
   "metadata": {},
   "outputs": [],
   "source": [
    "secret = \"xxxxxxxxxxxxxxxx-ZywqzuR4L3zm0=\""
   ]
  },
  {
   "cell_type": "code",
   "execution_count": 12,
   "metadata": {},
   "outputs": [],
   "source": [
    "signed_url = sign_url(input_url, secret)"
   ]
  },
  {
   "cell_type": "code",
   "execution_count": 13,
   "metadata": {},
   "outputs": [
    {
     "data": {
      "text/plain": [
       "'https://maps.googleapis.com/maps/api/directions/json?origin=Toronto&des                                                       tination=Montreal&client=gme-novantas&signature=LU47iSf3MzsZ53iXXzivn2P_p8A='"
      ]
     },
     "execution_count": 13,
     "metadata": {},
     "output_type": "execute_result"
    }
   ],
   "source": [
    "signed_url"
   ]
  },
  {
   "cell_type": "code",
   "execution_count": 14,
   "metadata": {},
   "outputs": [],
   "source": [
    "result=requests.get(signed_url)"
   ]
  },
  {
   "cell_type": "code",
   "execution_count": 15,
   "metadata": {},
   "outputs": [
    {
     "data": {
      "text/plain": [
       "<Response [200]>"
      ]
     },
     "execution_count": 15,
     "metadata": {},
     "output_type": "execute_result"
    }
   ],
   "source": [
    "result"
   ]
  },
  {
   "cell_type": "code",
   "execution_count": 17,
   "metadata": {},
   "outputs": [],
   "source": [
    "result=result.json()"
   ]
  },
  {
   "cell_type": "code",
   "execution_count": 18,
   "metadata": {},
   "outputs": [
    {
     "data": {
      "text/plain": [
       "{'geocoded_waypoints': [{'geocoder_status': 'OK',\n",
       "   'place_id': 'ChIJpTvG15DL1IkRd8S0KlBVNTI',\n",
       "   'types': ['locality', 'political']},\n",
       "  {'geocoder_status': 'OK',\n",
       "   'place_id': 'ChIJDbdkHFQayUwR7-8fITgxTmU',\n",
       "   'types': ['locality', 'political']}],\n",
       " 'routes': [{'bounds': {'northeast': {'lat': 45.5017123, 'lng': -73.5660                                                       02},\n",
       "    'southwest': {'lat': 43.6533096, 'lng': -79.3827656}},\n",
       "   'copyrights': 'Map data ©2019 Google',\n",
       "   'legs': [{'distance': {'text': '541 km', 'value': 541347},\n",
       "     'duration': {'text': '5 hours 28 mins', 'value': 19690},\n",
       "     'end_address': 'Montreal, QC, Canada',\n",
       "     'end_location': {'lat': 45.5017123, 'lng': -73.5672184},\n",
       "     'start_address': 'Toronto, ON, Canada',\n",
       "     'start_location': {'lat': 43.6533096, 'lng': -79.3827656},\n",
       "     'steps': [{'distance': {'text': '0.3 km', 'value': 280},\n",
       "       'duration': {'text': '1 min', 'value': 68},\n",
       "       'end_location': {'lat': 43.6557259, 'lng': -79.3837337},\n",
       "       'html_instructions': 'Head <b>north</b> on <b>Bay St</b> toward <                                                       b>Hagerman St</b>',\n",
       "       'polyline': {'points': 'e`miGhmocNs@Rm@N]JmA^KBcAZSFWHe@Nk@Pa@Le@                                                       L'},\n",
       "       'start_location': {'lat': 43.6533096, 'lng': -79.3827656},\n",
       "       'travel_mode': 'DRIVING'},\n",
       "      {'distance': {'text': '2.5 km', 'value': 2493},\n",
       "       'duration': {'text': '9 mins', 'value': 510},\n",
       "       'end_location': {'lat': 43.6618361, 'lng': -79.35452389999999},\n                                                       ",
       "       'html_instructions': 'Turn <b>right</b> onto <b>Dundas St W</b>',                                                       \n",
       "       'maneuver': 'turn-right',\n",
       "       'polyline': {'points': 'iomiGhsocNIo@c@oDGg@AASaB[_CGi@E_@EWAGIo@                                                       ?EAE?EAC?E?A?E?C?E?E@E?I@INgAFc@PkADU@I@E@I?C?C?C?A?C?E?EACAI?EEWKy@WqBYuBWwBg@q                                                       Dm@{EGa@Gc@M_AKw@CO?EAC?ACICEAECEEEAAIEGEMGKGECECEEGEGIEECCEEIMKOIOIQISGQESCMAGC                                                       IAGAG?GCSAI?KAI?O?M?Q?G?G@I@Q?G@G?EAE?G?EAEAIa@{Ca@oCc@eDEW[wBYwB]eCCSYsBQsAMeA_                                                       @qCa@wCa@qC[_CAIWgBe@gDU_BMcAOiAUaBWaB]aCOeAg@kDUuACQ?ICUUkDUmD'},\n",
       "       'start_location': {'lat': 43.6557259, 'lng': -79.3837337},\n",
       "       'travel_mode': 'DRIVING'},\n",
       "      {'distance': {'text': '0.2 km', 'value': 220},\n",
       "       'duration': {'text': '1 min', 'value': 22},\n",
       "       'end_location': {'lat': 43.66366379999999, 'lng': -79.3555052},\n                                                       ",
       "       'html_instructions': 'Turn <b>left</b> onto the <b>Don Valley Par                                                       kway</b> ramp',\n",
       "       'polyline': {'points': 'ouniGv|icNa@NOH[L}CvAKDOFOFODSD]JE@C@A@A@                                                       A@?BAH'},\n",
       "       'start_location': {'lat': 43.6618361, 'lng': -79.35452389999999},                                                       \n",
       "       'travel_mode': 'DRIVING'},\n",
       "      {'distance': {'text': '12.9 km', 'value': 12897},\n",
       "       'duration': {'text': '9 mins', 'value': 544},\n",
       "       'end_location': {'lat': 43.7628257, 'lng': -79.33669689999999},\n                                                       ",
       "       'html_instructions': 'Merge onto <b>Don Valley Pkwy N</b>',\n",
       "       'maneuver': 'merge',\n",
       "       'polyline': {'points': '{`oiG|bjcNkI~AaF~@q@N_F`AqCh@cAR{@Ro@PSHa                                                       @Nc@P]P[P_@T[RMHUPg@`@gA~@iD|C}BtB{@r@q@b@y@h@A@MF_@RCBq@\\\\GBSJUHe@Ry@Xg@P_AV_                                                       @Hm@LqAXgBZ{@Pc@Fa@FkBVcAJeAH{@Do@DeAFgCLiAFcAF}@B[@c@?_@AYASAYEIAQAm@MQESGc@OcA                                                       ][M[I}@]q@Yq@Wy@[s@U_AYc@KA?o@Me@I[E[COA]C_@Aa@AW?[?s@As@Aq@Ak@Em@E[EUCWCSEWEIAe                                                       @ISEYIQEw@Se@O_@M]Ow@[WMKE[OSK[SUMSMc@YQKQOu@k@g@a@_@[[[WWUUc@g@[_@QSCAsE{FqA_B]                                                       c@m@s@wAgBy@cAyAgBUYgAuA]c@W]Y_@MQm@aA[m@Q_@Se@Sm@Sm@Ok@Mo@Ki@G[Kq@Gm@Gq@Ek@Cm@A                                                       _@Aq@?q@@{@DcAHaBFkAHgA@MJ{AP_CNiCHwAD_ADeA@yA?m@Ac@Am@C_@C[Em@Eg@Gc@Ik@Ms@Kc@I[                                                       Om@I[O_@Qi@Sc@Ym@MWS][g@a@m@i@s@[e@c@o@m@y@]i@[e@Yc@Q]EIQ[Yo@Sc@KWIQEMa@oAY_A[kA                                                       W_AQq@EMIYKa@a@sASi@Uo@A?Wm@_@u@MQMUW_@SUw@_AOO[WSOWQWOUOOI_@OQIm@Sa@K[Ik@Kg@IuD                                                       e@w@Is@K}@M}@Ke@IOCMAWG]Iq@Qs@Yg@UWOa@Yc@]]Y]_@]_@Y_@]c@q@aA_AyAgBmCg@u@yBeDk@{@                                                       KMOSQWW]UYKMa@c@[WWUWSUOOIIGOIIEEC]MYMUIMCEA]K[G[GUCGAWCOAC?[A_@?U@C?Q@]@SBK@SBU                                                       DOBMDWFODIBSHWJIBGB[POHSJSNMH_@XYTUTKJUReAdAGDeBdBIHa@`@e@`@OL]Z_Ar@KFEBOLs@d@YP                                                       OJOFKFKHo@Zw@^?@sB`Ay@Z_@LWJKBc@NWFMD[Hi@No@Ny@LUFMBO@UBUBoALiAJ}@DuAHiADQ?W?E@s                                                       A@u@?cBB{CBcABmABsBDe@@s@Bw@DoAF]BE@_BLa@BcCTgEf@aALWDE?K?mBToC`@a@Fc@FoAPsC`@a@                                                       Do@HSBqBVmAL}@LkAF{BFgA@U?QCkGC_AAe@?Y?i@?a@B[?_@@S?]?]@{DPeAJg@F}Cb@m@J_@DoARw@                                                       NSD{@L{@Lq@J[Da@Fu@HkAN}@HkAHeADsAFgAD[@{AF{ADc@Bm@@qAFQ@[@aAFaCRE?SBC?q@HoC`@mA                                                       Pq@Lm@Je@JyAZ_ARe@LcAVUF]Ja@JeD`AA?_AT_@J_B\\\\WDK@M?]Fo@Jk@J[F_@FaC^qEp@qDj@{B\                                                       \\\s@J[DOBq@J]D'},\n",
       "       'start_location': {'lat': 43.66366379999999, 'lng': -79.3555052},                                                       \n",
       "       'travel_mode': 'DRIVING'},\n",
       "      {'distance': {'text': '1.1 km', 'value': 1070},\n",
       "       'duration': {'text': '1 min', 'value': 50},\n",
       "       'end_location': {'lat': 43.7680179, 'lng': -79.3292728},\n",
       "       'html_instructions': 'Take the <b>ON-401 E</b> exit',\n",
       "       'maneuver': 'ramp-right',\n",
       "       'polyline': {'points': 'ulbjGjmfcNQCU?i@@gA@qA@iA@u@?OAE?OAM?aBE}                                                       ACeBE_@AQAMAOCQGMGIECAEEEEGEEEKOEGEGMWGQEOAICIAICKAIAK?IAKAW?]CuDA]A}BESAEAIAo@O                                                       wCCu@AOImBIsBKiCGmBAOAGAEOa@'},\n",
       "       'start_location': {'lat': 43.7628257, 'lng': -79.33669689999999},                                                       \n",
       "       'travel_mode': 'DRIVING'},\n",
       "      {'distance': {'text': '23.0 km', 'value': 22987},\n",
       "       'duration': {'text': '12 mins', 'value': 737},\n",
       "       'end_location': {'lat': 43.83811679999999, 'lng': -79.07197540000                                                       001},\n",
       "       'html_instructions': 'Merge onto <b>Ontario 401 Express</b>',\n",
       "       'maneuver': 'merge',\n",
       "       'polyline': {'points': 'cmcjG|~dcNCkBE{BCwBAwBA}@AwBAuBAsEAwCAwCA                                                       yB?yBAeHAwC?aBAwC?wBAyA?oCA}A?{@C_BA}@Cy@C{@E{@Cy@I{ACa@Iq@ImAIiAKkAKkAMkAUmBc@a                                                       Dm@aEw@qFy@sFSsAk@}Ds@aFCS}@iGKo@Im@WcB_@kCgEuYe@cDCQa@sCc@sCo@qE_@_CIo@Ii@Gg@oE                                                       wZw@sFi@oDSsASuAeAmHSuA]aCiA{HM{@M{@k@yDYsBc@wCe@cDYsBS}AG_@M_AAAOsAWkBQkAUkBg@u                                                       DQuA[gCOqA]qCQyA[iCc@{D}@{HYiCk@gFcBwOmFqe@[mCsAyLe@cEI]AOOgA_AqIu@{GWwBm@}Ec@oD                                                       CUQoAeAwHq@uE{@wFiBcL_AkFy@oEk@uC[aB[_B}@oEWiAe@}Ba@gBa@kB_@cBi@_Ca@_BKe@[oAMe@a                                                       @yAW}@Qo@a@oAk@cBa@gAo@eB}@yBq@cBYm@[q@[o@i@kAmAcCqB}D?Aw@{A_@y@_@{@c@eA{@yBeA{C                                                       u@cCw@sCU}@s@{CY{ASaAIg@Mq@a@kCWoBM{@I}@OsAI}@Em@MoAOkBSqCQ{BUqCSqCW{CSoCUuCUwCS                                                       mC_@wEOyBc@kFYwDo@eIIcAcCu[iAwNCu@yAiRiA}N}IsjAEUI_AKqAGy@IiAIoAC_@Eq@A[A_@Cw@Co                                                       AAiAA_@?q@@oA?{@@i@@s@BcADgADy@B_@Dw@Dg@Fq@H{@JgAFg@Hq@Hk@Lw@Hg@Jm@Nu@F_@Pu@^cB\                                                       \\\wAxBwIt@}CXiAl@}Bt@{CRy@d@kBXiA\\\\sAT}@`@cBZsA^_BTgAPcARmAPoABYHw@JiAHiAJoCB                                                       }@BcB?sBC_A?i@KuCOwBSmBMmAWaBKg@Mq@Ow@WgAEMMe@i@iBIY[{@e@mAk@qA[m@c@{@gAsBoAyBaB                                                       oCq@eAkDyFiAiBgAgByA_C_BkCsAwBmAsBiAoBaAeBc@w@Ua@uAgCYg@Wg@y@{AaAmBs@wAa@{@e@_AO                                                       Y_@y@M[Se@cHmOwBaEI_@{DiHoCaFgC{EqK}S{BaEoE_IcMqT_BsCOWgHgMyBeD}@wAeDmFOW{AcCa@m                                                       @uAyBoAqBaAcBw@uACGYi@iA}B{@mBk@yAu@qBoCqHkDqJgB_F]_A[_AoAqDkDuJ}HiTqEgMkDuJSk@I                                                       UWo@eB_FuEoMeSuj@yCoIaCyGgA{CgAuCO_@Uk@_@cA_@eAAC?AAA?C@A?G'},\n",
       "       'start_location': {'lat': 43.7680179, 'lng': -79.3292728},\n",
       "       'travel_mode': 'DRIVING'},\n",
       "      {'distance': {'text': '319 km', 'value': 318831},\n",
       "       'duration': {'text': '2 hours 57 mins', 'value': 10640},\n",
       "       'end_location': {'lat': 44.7393229, 'lng': -75.50066799999999},\n                                                       ",
       "       'html_instructions': 'Merge onto <b>ON-401 E</b>',\n",
       "       'maneuver': 'merge',\n",
       "       'polyline': {'points': 'gcqjGzvraNmAgDm@}AY{@M]k@}Aa@iAe@uAc@mAm@                                                       gBe@qAe@qAe@sAc@kAWu@Wu@i@wAAEe@qAc@oAIWgGuP_Osa@a@kAQk@Wy@U}@Sq@Oq@UoAMk@Mu@WqB                                                       a@qDMeAq@{F{Ds\\\\G_@qCqU?Ai@aEUsBWsBU_Cm@oFq@wF[uCWwBIq@[kCy@_H}@gHOkAm@mEyAoKU                                                       aBi@yCYgB}A}JOcAO_As@kEg@{CQkAkBgLG[qAmIw@_FcA{GuBkOEWCYESCSCSCS_@uC_@uC}AoLAQiA                                                       eKe@sDwAkKuB{NuAcK}AwJ{DaWkAsHo@{DcBsKi@_DY}AKm@Q}@mFcXeCuMkCkPgBeNk@uEAIe@gEe@e                                                       F[eDOmBSkCQyBAIWeDScCa@oFoAuO]{EyAeSQ{COiCIqBImEAwC?sC?wD@IF_Dh@}XH_EBoAHeDFkDJq                                                       FNoHFwCBiBF_CHqDBcAL}ENuHFeDJaD@o@@oADwAD}ADmAFwB@y@LcFVwKFsD@WJqFP}IDyB@wA?iA?}                                                       AA_BA}AEcBEuAGoBKsBKwAK}AM}AQaBUwBWoB[}B]aCWkB[sBQgAGe@]aC_@iC]eCgAwH{Eu\\\\c@}C                                                       }B_P}Lk{@_BcLeCeQmByMqBoMCQe@mCy@sEUkAs@sDcA}EuEwTUgAo@aDEUwA}GgBiIi@qCWgAS_AUuA                                                       QcA[}BIc@M_AuDwWc@}CAEIm@aAsG}B_PWqBCMMw@OgAgA_IKm@qAgJEYyBcPsDcWc@gDIk@AGMu@kAm                                                       IwGce@g@kDYsBKs@OiAYqBMaACMMgAMo@U}Ba@sE[oEOyCUuFMmHCyC?{BFwI?GB_CDoBHyBHmBJcBJa                                                       BHiAL_BNiBRwBVqBR_BVmBJs@L}@f@}Cl@eDd@yBJi@Ja@Z{Ah@wBr@qCnBsG`AoC\\\\cAZy@\\\\{@                                                       Xq@l@{ATg@z@mBv@}ALY`@u@p@qApA{BjAmB`BmCbAcBfCcEbBsCh@_Av@sAvAyC`B_E`@kAVs@\\\\i                                                       Ah@iB~@uDf@}BVyAb@cC`@sCJ_A^yDT_DPwDB}@D{ABwA@qA?{@?iAA_AA}@CwACmAE}@Cm@GuAIkAMu                                                       BiLegBw@qLwAuTWkEWyD}AwVKaBk@yIy@aMw@mLuAqTc@oGO{BgE_p@uDel@_@gGu@kL[qEUkDYyDQuC                                                       YcEa@sG_@uF]eFOiCW_ESkDKyAe@kHCu@mBsXI}@?MI_ASyBMeAMkAIm@_@gCSsA[kB[{Aa@qBaA}D]o                                                       Ae@aBUs@a@qAe@sAu@qBaAcCeCoGeAoCiIgTwCsHc@kAeBsEi@qAkB{EeAsCcByEk@gBm@mBQm@{AeF_                                                       AcD_B}FYiAoAiFa@cBg@yBQy@EQ{@kE[cBQ}@i@_Ds@gEo@sDQcAc@yCOiAk@sEa@kDIq@Gs@Ec@a@{D                                                       O{AQ{B_@mEUoCQ{BMkBKgBSqDOeDIsBCq@{@uYc@gNi@mQAq@}Ami@u@qUe@sPoAab@CwBKqDEqBEwBK                                                       eDKo@ACIwBMsEOcFSsGc@cO]yHE}@E{@]eGa@kGWuD{@uJYoCWcCe@eEYaCkBiOqAiKmCqTg@}DIq@mB                                                       iOi@cEYcCwAyLiBcOkCaTeBuNkBkOy@qGKy@yAgLYaCQqAaBeNiB{NKy@kB{O_CqRiC{SqCeUQyAs@}F                                                       qAoKcAiIwAoL{@_HcBgNo@iFqAeKmAcKaAyHwBgQ_A}HcBgNq@qFcAgIi@oEs@sFcAkIsBwPeAsIaB{M                                                       }BeRaA_Iw@sGy@uGY_Cg@mDq@cFmAwIc@eDoEc\\\\mBiNmA}IiAoIgA_Iu@oFm@qEwByOsAsJS}AwAm                                                       KsF}`@E[E[mEw[iD{V{AaLeCoQcByL_@kCgAoIQmAsDiXoAeJgE_[oA_JeAuHaAkHsAuJ}@yG{@_Gw@i                                                       GkA}IyCcUoBmNgCeR}AgLyLa}@SyAkCuRKq@cF{^eA_IqAkJcDkVeBeMoCaSuKcx@_CkQkAiHIg@WqBi                                                       @uD_AeHi@{DkB_NgCgRqDgXo@kEc@gDCQYuBi@{D_A{GqBaO}Ly}@_@iCyG{f@kAwIgQaqA_@wCe@mDa                                                       @_DM{@MkAYmCSuBU{BQ{BQyBIsAIeACc@?ICYM}BSqEYwG}Aq]_A}S_@wH?AWkFQwDCk@Ag@KqCScHO}                                                       FKsEEwAGyAK}CU_Fa@gJOkDWaGW_FUcEQkCQmCk@gIG{@Ew@C]G{AIiBWmFCm@AKGgAQgEE}@E}@IqBI                                                       sB[iHc@kKi@cMc@qK_@{IO}CK{BIwAGeAMyAM}AAGGg@Gu@a@cDWiB]uB_A{F?C_A_GmAiH_BmK]wBWe                                                       BES[qBkBeL{Lcv@wEwY}@wFeDkSwB_NoEaYeAaHiAiHQqASqAcBoKuAeJgBeLyAsJ_@gCKy@K}@Iu@Kc                                                       AEm@GaAEs@CeAE_B?g@?m@?{@@}@@{@@]@]Bu@FeAFy@HcAH}@Jy@L{@T{AFYJi@ZsAb@yBhAcFdAsEj                                                       BmIr@uCbBuHfA}E`@qB\\\\kBVyAZwBR_BNqAJaAP_BDo@Da@LaBHuADy@Ds@D{@DiADeABaAB}A@uA@                                                       gB?cA?mACsBC}ACcACmACS?WMsCGmAKyAMyASiBgEsd@uBaUQkBOcBUgC_@eDa@mDWeBe@aDW}AMw@Mw                                                       @e@wCY{AOw@uAyGAEi@}Be@yBa@aBm@iCk@gCiAcFAIQw@k@_CaA_EI_@[mAi@eC]sAOw@Qw@y@sD{Bs                                                       JuAiFcAeDaA{CeBcFo@eBs@}Au@qAc@s@IM}AsCwAgC}AqCy@}AMUQ]OYc@}@]{@k@wAi@}Ae@eBYiAU                                                       eAMs@QaAOiAOgAKeAIeAG_AEw@Ci@CaAC{@CyA?aCEkMGaP?yBCcF?eAC{AGgCGyAQ}BKaAMcAOmAg@g                                                       DYmBk@gDOo@Ke@c@cB[eA_@eAQk@o@}AkBgEgAcCsA_Dw@cBw@iBe@eAeAcC{AeDe@gAcA{Bq@{As@aB                                                       cAeC}@kCs@{By@qCq@mCe@qBaAqEc@oB_AgEm@sCcAqEq@aDoAuFS}@u@yD_B_I_AeFUsAMw@]qBKs@M                                                       {@U_BQwAYcCOuAOaBOoBQ_CQwCMwCKsBIqDCoAAg@A{BA{D?cABeDDuCH_DP}FJyCf@uNPcFLkDj@eOf                                                       @{Lh@oMTiFb@_LLcDHiBLwCT}FH{AHoBJcBNuBNyANsAXyB\\\\sBXwA^aBTaATw@f@eBt@wBh@wA\\\                                                       \aAL]zDsKJYb@kA`@kAj@_Bf@qAVs@Rq@`@oARu@\\\\qANo@XsAPy@N{@Ly@ZqBPyAH{@JiAJqAJoAD                                                       s@DaADuAB{@?a@BuA?}@?y@A{AAy@C_A?GEiAE_AIwAG{@KsAMwAG{@I{@Gy@MwAI{@KuAMwAWoDMyAM                                                       wAMwAOsB[qDsCw]o@aIcA}Lc@eFa@kF_AoLa@yESiCo@_IcA{LWaDWuC_@oDUcBy@yGaCgReAqIc@gD}                                                       @cHsAyK}@cHeBoNG_@WqBQuAo@eFaB}MIo@e@qDiAiJ[kCeAgIk@uE_@uCc@kDSaB[cCc@oDg@yDo@_F                                                       Ea@COm@cFs@wFq@mF_@{Co@}Ei@kEIs@AMm@sEGg@g@}Dk@qEQuAg@aEc@_EQqBYuDO_CYuEGcAUuDM_                                                       COyBE}@KqAKkBOoCAQQkCg@yIm@wJGgAASs@{KUgEe@yH[mFWeEYeFGaAc@eHK_BAOEg@c@oHg@eIk@o                                                       JaAsPu@aMq@aLQuCGiAk@qJI}Ao@aKE{@_@{GWgEIqAGqAKcB]yFE_AYoEc@qHYyEa@uGk@kJc@cHYaF                                                       Gy@s@_MIeA_@{EKoAs@kGOqAUwBQ{AOsAe@cEe@uE]aDg@mESmBSeBYkCSkBUkB]cD_@iDu@aHq@iGa@                                                       qDa@yD[sCYcCSmBW}BUuBg@oEc@gE]eDQ{Au@wG[{C]uCo@uFi@{EkEs`@sL{fAY}BWuB[oBm@}C{@aE                                                       EOa@_BOq@yBoJw@_DkB{G}@yCcAgDo@yBs@_Co@uBs@{B}@yCgAoDwEwOmHiVw@mCs@{BcAgDMc@w@iC                                                       q@yBk@kB]iAOk@k@iB_@mAc@wAg@eB_@mAwAwEiAwD}@yCs@}BUy@w@iC_A}CaA_Dw@iCe@_Bi@eBe@}                                                       A[eA]gAa@sA_@sA[cAg@qBQs@k@eC_@cBWyAYaBO_A]uBQgAWwAa@gCc@mC[gBy@gFa@cCW_Bs@gE{@i                                                       Fc@kCG_@}@}Ew@eD_@qAgAgDe@gAgA_Cq@oAu@oAIMU]iBaCaAeAs@u@y@y@c@c@{D{DuIwIuC}CsAkB                                                       {CiFcAmCwAsEg@_CeAqFmKak@AGoG_]oEaVmC{No@_EYaCe@gFe@uFIiAEmAIcDWyRKuIIqEEaDOkEEk                                                       AOeB[kCa@qCe@wB_@aBe@}Ag@_Bm@}A_@{@e@aAy@}AkAgBQWy@gAoCkDwCuDaDaEs@{@yCwD_EcFo@y                                                       @eDgEcDcEc@k@w@_A_I_KsDwEs@}@}AqBg@q@c@m@_@o@e@{@_@y@w@{B]iAk@uBSu@SgAe@uCWmBO}A                                                       OyBQoDK_DA]WoGMaDk@cOUoFSoFM{C[{I_@oHSsCYiDs@aGqA}IM_Am@wDSuAOaAqCiRsAkJuJeo@iB}                                                       K{@_Fw@{DkA}EaEuNw@qCmCgJeRcp@sE}OyA_Fa@wAe@aB]iAsAsEWy@q@iBi@yA}@uBqAqCqAcCoAuB                                                       aFaIeHcLeEaH_DcFkB}CaA{A_CcEwAgCoBcEgAqCKYe@oAi@aBwAsEuBuIg@wCo@{D_AuGkBsMmBwM}B                                                       wN_BsIeAiFkCoMcJ{c@YyACOuDqQmAgG]yAc@cBe@cBc@yAa@qA[_AsByFcCqGg@_BkF_OkCyHoUgq@q                                                       BgG{@eDw@mEIa@Gg@Kq@E_@Gs@Iy@IkAE_AEs@I{CEcFAy@SqVEmEOoV?e@?m@?EAg@SgZEwGk@eu@Me                                                       DIcBOqBOyAIk@o@iDq@oDg@cBkA_DsLsWsCsGsFwLWg@EI[o@uE_KmB}Do@cBkEeMqAkDAEQg@?AyAgE                                                       aDiJ{AoEcDqJc@mA}@aCm@aB]aAe@yAmGyQiA{CaCaHo@iBu@{BmDcK_C{GSm@uBgGyBqGqAqDmAcD_A                                                       cCmAcD{A{DuAmDoCgHmBeFiB{E_BiEqCmH{FgOqCiHm@}AeCyGyB{F{CeI{FgO_BcEuAqDsEuLiFcNeI                                                       cTsDqJsAqDeFwMwByF_BgEk@{AiCyGqFsNy@yB{@_Cg@uAYaAg@aBU{@g@iBm@eCS_Ao@}CUoA]uBe@m                                                       Cc@kC{@_Fs@gE_AyFwAuI]qBk@iDk@gDQeAw@sEWuA]sBg@wCg@_Da@aC[kBWaBe@mCm@oDc@aCc@kCY                                                       cBg@sCUyA]sB[mBUsA]sBe@iCu@qEc@mCy@yEk@gDk@kDk@eDe@mCuBgMc@iCe@qCq@cE}@gFeAqGs@e                                                       Ek@eD{B}M{@iFgAoGm@qDoD_Tc@oCyAqIs@gEa@kC{@mFi@iDIk@EYmAmIyA}JoCcReDaUkA_I}AwKqA                                                       {IkA}HaBaLu@gF{@aGeAcH{CgSw@eFc@yC}AcKi@oDwAgJw@kFc@uCwAoJu@aF[mBuAmI}AmJgAyGeBe                                                       Ky@eFgCwOWuA[oBc@mC]qB_A{FG]My@aA}F]sB_A}FUuAk@iDq@gEKg@QeAWsAMu@Ow@Oy@Mu@WuAe@k                                                       C]qBOw@Ow@]qB}@aF}CoQc@eCoAqHoAwHi@eDE]Kk@mCkPoAqHiAaHeCiOoCoPmAoHi@{C]sBKc@UeAE                                                       Wg@{BaCcK_AsDi@oBg@_Bi@cBk@kB_BcF]gAa@sAe@{AOg@}A{EeCeIUw@Yy@eF_PyD}LmCsIiBaGUu@                                                       Ma@IYo@aCc@aBi@yBU_A_AgEYyAc@_Ca@wBy@uEYcBa@qC_@iCKq@{@yF]}BeAyGoBsMcCkPyAuJq@yE                                                       mCsQaBqKqAwIc@wCkAwHgBsLEYu@_FiDmUcCmP_CsOaAuGqAyImBoM_BsKcA}G]wBq@{EiBuLaBwK{G}                                                       c@}AoKEQy@eGu@aFaAsGaA{G_AqGU_BMkAIq@MyAKiAM_BOcCGsAImBEwAAkAMaF?eGBcBF_CH}B@i@B                                                       k@ZgFToCp@{Fb@_Dn@uDX{Av@sDrBgJxBgKhDyOZ{An@yDh@wD^aDP}AXaDRaDRaEHcEBeC@cCCaDAcA                                                       A_AEaBMgDK{BIgB]kEqBuXwAwRkAgPq@eJ_@cF]sE}Bk[IaA{K}{Ag@yHWeDWeDmAcPMaBaCc\\\\k@a                                                       Ic@oGGs@_BgTkBcWuCia@q@gJ}@kL{H{fAGy@K_BM}AO{BcQacCqA}PCWkDgh@{AcSqGg~@gDme@{A{S                                                       yCqa@aAeMyAcROkCyAqTeCw]sAqRyAaT_MgfByAwRwDuf@qAoQiAmPcBmUEg@aA_Na@wF_BqTo@yIuCo                                                       b@gEen@_Fmq@cIshAmF{s@iAsNIy@m@gIS{CYsDSqCWkDM_BQsCYmDYwDWiDk@kIYsD[kEO{A]qCIw@M                                                       y@My@SsA]mBQ{@YuAa@kB[qAo@eCaA{D[oAI]GU{@gDe@kBo@eCg@mBe@kBe@kB[qASw@e@kBoCuKo@c                                                       C[qAUw@c@iBcA_Eo@eC[qA_BmGaC}IwAoF{@aDeA}Dq@cC[qAi@mBy@_DQu@]qAuAqFeA_Ey@aD_@{Aq                                                       DoNI_@EOy@eDmAaF]uAQu@WqA_@qBSuAYsBOwAIy@G{@Gy@Eo@G_AGuAEgACyACyA?{A@yA@yAD{AFwA                                                       Dy@F}@PwBJwAH{@LyAHw@H_AFy@LwAHy@F{@NwAF{@LwAF{@B_@Fw@H{AFy@FyAD{@@_@Bw@FuDDiEA[                                                       ?aEEqBEyAGaCMeCQqCOiBM{AO}AOuAS{AU{A[oBo@iDiAmFc@{Bg@}B_@iB}BaL_AuEeA{E{DiRuHg_@                                                       Y{ASeAO}@QkAGc@]eCQaBMkA]uDOuBO_CIoBI{BGwDCkCEmFWi[A_AMeMKaOGgGK_NAgBE{DEwDEcCCs                                                       AG}BEwAGcAMiCQgDQgDOsCk@kKi@wK]uGcAwRk@wKMyBMkCc@gI]aH]qG]iHg@uJCe@Cc@OuCQ_EEcAK                                                       _CMsEMoFMiHKsHQwJOiKSqLOiLMeJOsKIeHM_KOuKI}GQqKK{IMuIOqJIuEQ{KKgIAKGkFSeOKcIIeFI                                                       {FIgFIkFK_FMkHSmNYySOiK[}UC}@QcMKcGEmDMmIMmHYkOOaIOmICqBGsD?KEsC?KE{DIeFU{NIoGQu                                                       L?KGuEGqDCiCCkBQqUImJEwEEsEImGEyBm@}b@?EGiDKoHEuCIsEWcMIoE[eNImEKuEOmHEsCGuBQoI]                                                       }Qa@sQSoJOqFYeLMeG?AE_BWaMC{@WcM_@ySm@{ZKuFEeBCcB_@kR?YWkMCiAWgOUmNE{BKqCKuC[gHY                                                       mH_@cJ[kHe@aLWmGSoEQoE]iIQqEYoHMoDCwA?}@EoEAsEAsCCuEAwBA{A?wBAuC?uDAoE?oGAuFAkGC                                                       sECqFCoGAsDCqFCmHEkHEiICoHEeK?WCoHCyEC{CI_DMkEGsBIwBUcGOaFQuE[gJUeGOoEIiCm@gQm@o                                                       QsAy_@{@cWM_HGgLGiS?qA?}SCoc@Qoz@A}FEqOAwGC}GAcFAcFAaFAmFA}F?sAAkAGqBIsBQuBKkAMk                                                       AYoBIe@SgA}@qDWcAy@gCw@cCe@iBYiA_@mBYqBOkAW{CMsBGsBCkAAoA@mA@kA@{@Dw@JqBDg@NiBFi                                                       @^uCZaBVqA^{A|@_DRi@Ne@N_@p@{AlIiQrE}J^u@Ta@pBmEP_@jAcDZcARq@lAqFnAoFtBcJLg@bE{Q                                                       p@sCZuAf@uB~Iga@T_Ah@eCt@yCf@yBd@wBR_ALy@XgB`@qCR}AT{BPuBV_DJeBDc@HmA?GNqBRwDVmE                                                       LwBH{AHuA^kH`@iHXuFPqCPyBXqC\\\\uC|@cGpA{HtC{OjC}NDWzAuIjBkKv@eEz@uE^qB\\\\sB~@m                                                       Fd@oCTqARiAh@wC^yBRyALw@D]D_@F_@Hw@H{@J{@Hy@F_AH}@F}@HwADy@D}@D{@B_AB}@D}@b@oN\\                                                       \\gMZqK^mLBgABgAXoIJmCBuBAuBEgBGoBOwBEe@KeAUgBOeAIe@SgAYqA_@}AOk@So@]gAi@{Aa@eAo                                                       @yAw@mBsCwGuF}Mw@gB}@yBkAsC}AsDEMsByEeD{HgBeEM[Um@Wo@Us@Us@Oe@g@qBIa@Ou@Ie@_@_Cm                                                       CuQiAwHGc@_@_CCQ]aC_@kCYqBYmBo@kEi@mD[sBg@kDo@gEg@kD{@iF_@kC_@}Bw@uFUwAUuAe@cDs@                                                       {EQkAkA_Ii@qDc@wCe@}C_@gCg@kDQmAc@sCa@qCIe@Im@U{ASqAQiAKy@a@kC]{BmAqI[qB{@uFy@{F                                                       oAmISuAUyAMy@My@Ow@Ow@Ou@Ou@Os@Qu@Qs@Qq@Su@Ss@Sq@Uu@Wu@_@mAeA{C}@aCYu@c@mAe@oAWs                                                       @Ys@Ws@i@wA]_Ae@kAWs@Wq@Wq@Wq@Wq@c@kA_@aA]}@c@kAc@iAYs@uAqDo@cBo@aB}@_Co@cBEKi@w                                                       Ay@}B}@}Bc@iAWo@Yo@Yo@[m@[k@]k@]g@o@_A_@e@_@e@a@c@a@c@c@a@c@a@c@]e@_@e@]c@YmAs@m                                                       Au@oBgAaAm@mAu@y@g@{@g@y@m@w@m@a@_@e@c@]]UW[]W[]e@a@g@_@k@k@}@m@cAi@gAYk@[s@O_@S                                                       g@Oa@So@w@qBc@kAe@oAsAsD{BkGiB_FgEiL{AsEeAsCIWM_@{CmI}@cC_CkGqAsDyFwOEMgIwTaBuEc                                                       CuGmA}CeAqCeAsC_@iAa@mA]kA]oA[oAc@iBc@qBe@cCi@gDa@sCUiBQ_BQiBo@sGiEod@q@gHeA}KuA                                                       sOcBoQiBiRaCyVwAsNc@gEc@sEYeDQsBMqBOwBMsBKwBMqCWkG[cI}@uUM}HImF_@wIUaHM_DOsDIgBk                                                       @{Me@sJg@gNs@gT[wIGaBUeGg@qLMuCGgB[kG[wHk@{NkAqZk@mNIuBEwBKoEQqMGqDGsDGkEEyEASEu                                                       DGoCEwBEwAG{AEuAGyAWkFk@wLUkEi@{JQoDg@{Ki@wKa@cIYiFQoDUiEYiFMqCMuBOqDIuBUmFMqCEy                                                       @OqDYiGYiGWkFSqDa@aIg@_J_@eHc@_J_AkRk@yKa@eIOoDMqD[aKOkFIuDIqC_@{Nk@{SCs@Cs@SeHO                                                       oEEwAE{@IuASsCMwAIw@SiBQ}ASsAa@oCc@iCG[_@mBk@eCYqAm@gCm@eCiAwEcBeHw@aDiAuEeBgHiC                                                       sKwB{Ik@}By@iDeBgHk@gCWuAk@oE_@kCQsAOwA]kDUoCk@aHwAgQmBuUgBwTkAsNg@gGo@eIw@{JSeC                                                       KiA]iEQsBYoDUsCUqCa@gFu@}IiAkNEo@SaCQwBKwAkBeUM}Ae@wFUwC[oDYmDOsBGs@IeAKuAI_AEy@                                                       IuAE_AGsAC_ACu@Ac@CsAAe@AwA?y@?{@?{@?mABgB@c@@u@B}@DqAF}ABy@D{@F}@Bg@@OF{@J{APuB                                                       PeBHy@Hm@BSL}@F]LaAHe@DWJe@n@gD\\\\mBTmALy@Ly@L{@PwAPqBB_@BYDy@HwB@y@B_A@wB@yA@u                                                       CHuODiHDaJF_LDcE?oC?_@?aA?{@C{AAy@C}@Cy@Ey@E_AKuAIeAEe@KeAGc@Io@Ec@QkAUsAUuA_@qB                                                       aAgFeJwg@}Miu@eBkJs@}Dg@kC]gBg@iCa@mBEUUaAUgAWqAk@eCeAwEu@}C[sAkAqESs@e@iBo@aCe@                                                       aBi@oBs@aC{AeF}AcFEKOi@qBwGsAoEsAmE{AcFqAmE_BkFaG_S}ByHo@uBy@oC_CyHkBkG_BiFuBcHa                                                       C{Hs@cCa@uAaJiZ[eAaDqKyBkH}@wCo@wBgAqDeByFqAkE{AaFi@eB[gAs@_C{HsWaDsKcTqs@EOqAqE                                                       g@iBi@qBi@_Cc@mBa@kBYsAYqAWsAg@kC]mBO}@i@gDYsBQqAYsB[mCi@_FU{B[kDc@}FMeCOwCKcBIi                                                       BKeDG_CEwAGsDCwBCsC?wC?oD@wBBsD@y@DyBFqCFsDFkCLyFr@w]T}Jj@eYDwBDuB?wA?}@?iAAiBAy                                                       ACsAK{CGwAKwBQeCSeCSwBAKSeBYwBi@{D_@qCg@oDAE}@sGg@mDs@_Fe@mDy@}Fy@wF]aCe@cDgF{^E                                                       ]EUE]CUKs@y@cGq@{Eg@mD}@qGsB_OcAeH?Gm@qDg@cDs@gF_@kCc@qC_@oBa@mB_@sAe@cBa@sA_@gA                                                       [y@Yw@Yo@Yo@m@mAe@}@iEqH{BuDcCcEcCuEgAiBiAkBiAkBwAaCyAcC{@uAm@gAYc@yAeCwAaCuAaCi                                                       B{Cy@uAgAiBy@wA{@wAy@wAwAeC[m@e@cAc@{@_@{@c@cAc@iAc@iAa@iA_@kAa@oASs@]mAUy@YmA[q                                                       Aa@oBi@kC[kBg@kCm@eDKm@Km@Mo@WwA]kB]kBWsAWuAa@iBUaA[gAMc@Og@Us@a@iAq@}Ae@eA[q@g@                                                       aA]k@_@m@wBiD{A_C{@oAm@_Am@}@}@uA{@qA{@sA{A_CkBsCiBqC}@sAi@aA{A}BiAgB}AaCyA{Bm@_                                                       A}@sAkAiB}@uA{@sAm@_A{@qA}@uAm@}@y@oAq@eA_AoAq@{@s@{@eAgAq@q@u@q@y@o@u@k@q@k@w@i                                                       @g@_@w@k@w@o@u@m@c@a@s@o@u@u@u@w@q@s@_@e@cAmAo@y@o@}@m@}@m@}@[i@QW[i@i@aA]o@[m@[                                                       m@Yo@Yk@Yo@q@}Aq@eBo@_B_A}Bq@aBgAqCc@iAcBeE_BaEiAuCkAsCUm@o@{AcAcC_AuBw@}AMU[m@i                                                       @aAMUMU]i@]k@kAeBw@eAyBqCiDyDwCgDeCsCqAyAuA_BsA}A_AgAc@e@u@u@a@a@QOw@o@w@m@iAs@{                                                       @c@UMc@SsAg@k@SQG}@UgB_@}D}@yHgBcH_BOEkDw@}EgAGCyFqA{D_A{D}@mA[uEgAuLwCsA[y@Si@M                                                       k@O}@WSESGe@Oi@SgBq@e@S}@a@_Ae@e@Uq@_@o@a@[QgAu@eAw@}AkA_EyCmG}EgDgCmCqBoCuB{C}B                                                       QOqCsBgDgC}EqDwCyB{AkAyAiAkA{@{AiAkA}@YUkCoBoFcEoB{AwAgAWS{AkAKI_Au@kCqBaAu@cCmB                                                       eCkB_DcCyI{GaAs@_BmAiBuAi@a@aCiBk@c@aAu@sAeAo@i@MKmBcBsCeCqCeCQQu@o@kBcBiBaBaDuC                                                       sCgC{BqByAqAu@q@iAcAa@_@w@q@yAsAkAiAaA_AkCoCuA{AgCsCuBcCaGwGoGiHqGiHkCyCq@u@GImA                                                       qAeBqBaAgAeAkAiAsAo@q@_AeAwRsTcDyD]]eAkAqAyA{AcBiF_GSUkFeGgCoCkFgFoCsCw@w@wAuAyB                                                       kBuAuAwCyCoEsEy@y@gBiBs@u@mAoA_A}@u@w@a@c@kAmAqBqBwAwAo@q@UWOOgAgAyB{BsBuBW[YYUY                                                       QUW[MSIM]i@_@q@Yk@Yo@a@gAWu@Su@IYSw@G]GWG[OaAa@cD]sC_@qCo@eFiA}IaA}H]qCYuBqDyYs@                                                       sFi@kEUgBKs@uAeLWsBEa@I{@IeAEk@Ew@KgCEiACsCAyA@uBB{ADuANqCNwBPuBZoDp@eHrAsN~@}JH                                                       cAF{@F{@FcAFeBBcB?eA?q@CsACaAI{AIgAG_AKaASwAO_AMu@YuAQu@]oAe@{AsAaEeIiVk@cBwLk^{                                                       @eCs@oBaAiCg@mAs@_ByA_Ds@qAEK{@wAy@sA]i@q@aAo@}@o@{@q@s@c@c@c@a@y@o@y@i@w@a@]O[K                                                       k@Qe@MaAQaAKy@Em@Ay@@q@BuCHaELs@BoCHqUx@sCJqIVsELmBBsA?yACaAE{@GuAKuAQmAQgASsAYi                                                       Ba@sAa@qAa@uAi@mAg@{@_@iCsAmAs@s@c@k@a@aAq@m@e@y@q@s@m@u@s@iAeAcBkBeAmAoAaB_AuAe                                                       @u@e@u@sBqDqC_Fy@{A_D{FmHwM}N{W}K_SuF}JyDaHcB}CyAeC{@uAm@{@_AsAq@{@a@g@qA{AwA{Ae                                                       AeAoBeBw@o@wAgA}@k@mBiAyBmAg@UoAk@{@_@iLkEyIgDiNkFyBy@s@Yq@YyB}@k@Ya@SmAs@YSYQ}@                                                       q@iA}@u@q@gAgAuBcCq@y@oEyFs@aAo@}@k@_Am@gAu@yAaAuBe@gAg@sA}AcEy@}BgAwCcGaPiBaFaA                                                       eCcJwVsD{JuC}H}@cCgB{E{@sBoAmCsAiCiAqBq@gAoAmBEEAAQSa@c@e@k@oAsBcBgCkAiBk@w@[c@k                                                       KePIMe@q@S[e@u@Wc@{BmDaDqEQYQWkAeBeA_B{@qAQYq@gAcD_F_B_CyBaDe@o@_AsAoAmBWa@Yc@u@                                                       kAuB_DoAqB_@k@a@i@oBaDiDqFuB_DOQaBaC_G}Iu@oAwHiLw@gAEGi@s@mBwCcA}AoAuBgBiCaBeCsA                                                       mBs@iAyAcC}BeEgAuBgAuBuAmCsFuKaAkBMUmBwDeIyOsEaJqIkPsCuF_@u@}CaGcDmGyAwCs@sAgAqB                                                       uAoCmBsDaAiBsAgCuAkCuAoCwAoCsAkCgB_DWa@q@gAyAuB_@g@}@iAeAqAi@m@i@i@s@u@wAsAo@i@{                                                       @u@}AsAiAaAmBaBwDcDkBaBs@o@{A{AsAyAcC{C}A{BqAqBgBqCm@cAwA{BgCcEaA{AqBcDoAoBwAaC{                                                       AaCkAiB{AcCq@eA[i@MS{BoD{EuHMSm@aAQU]k@{@sAm@aAk@}@mAmBu@mAq@eAeIsMoD}EcN{PwGkIs                                                       AcBmDmEmA{As@}@mA}AcAoA_AmAq@}@Y]mBeCoAaBu@aAw@eAiAuAqAcB}@gAo@w@kMcPiCaD_c@si@k                                                       L}NmBaCqCkDuCqDsAaBeEkFkEqFaBsBy@eAiQyToMgPiCaDsCqDgHaJaFiGeAsA_LqN{CyDcBwBcBwB_                                                       AkAgFsG_AkAgLyNgEmFeJgLuAgBoA}AoA}Ac@i@]e@aAkAsDwEgJmLq@{@oJuLgCcDgAuAqA}Aa@k@o@                                                       w@q@y@q@{@m@w@sAcBq@{@q@y@_@g@q@y@o@{@s@}@[c@SW[c@OU_@i@[g@i@}@Q[k@aA[m@i@cA]q@Y                                                       k@Ym@g@kAWo@e@mAWq@Um@Yw@Us@Sm@Ww@]mAUw@I]YgA]wAYmAWqAYyA]kBa@mC]uBYoB[sBc@oC[mB                                                       SwAMu@U{AYkBUyA[kBU{AKu@UyASqAUyA[mBSuA[qBc@oC[sBa@mC[oB[sB[sBWsAUoAQy@YqA[uASw@                                                       YkAi@iB_@oAQg@Mc@c@oAc@kA[y@Yu@Se@Yo@c@eA[o@]q@[m@[m@[m@i@_Ak@aAaBoCgKaQo@eAoEuH                                                       aJiOiGiKgB{CmDaGwBoDcCeEyAeCwBoDk@cAk@aAgByCsBgDqBgDoEqHU_@EGYg@{AeCgKoQqDgG'},\                                                       n",
       "       'start_location': {'lat': 43.83811679999999, 'lng': -79.071975400                                                       00001},\n",
       "       'travel_mode': 'DRIVING'},\n",
       "      {'distance': {'text': '109 km', 'value': 108807},\n",
       "       'duration': {'text': '1 hour 2 mins', 'value': 3725},\n",
       "       'end_location': {'lat': 45.2083667, 'lng': -74.3482841},\n",
       "       'html_instructions': 'Keep <b>left</b> at the fork to stay on <b>                                                       ON-401 E</b>',\n",
       "       'maneuver': 'fork-left',\n",
       "       'polyline': {'points': 'wcapGdfykMeFsIsZch@sMuTuBoD}CkFqJaP]o@gTm                                                       ^QYQYm@eA[q@eBwCmDyFEIkCqEgAkBuA}Bq@oAwDoGeCgEiDuFgAaBmBoCmB{BwA}AiBiBqC_CUQ[WEC                                                       k@c@aAo@}@k@aAi@y@c@[OkEwBcCmAiCoAs@[aBy@yBeA{E_CiCqAwBcAoAm@aCmAsCqAkB}@_Ae@sAq                                                       @_Ae@}@g@}@i@}@m@cBmAmAcAg@c@g@a@{@w@y@w@g@g@w@{@w@}@oAyAu@gAo@}@i@y@k@_AcA}AcAq                                                       BkAuBWe@_@u@aBwCwAkCcCuEsByDiBgDqBsDoAaC{AqCiC{EoBqD_IwNcKkR{Po[wCqFyJ{Q}EaJyFmK                                                       kDsGwEwI{Y{i@mDqGaG}KoCcF{GgM}LeUm@kAIOk@eAeBcDiAuB{@_BIM]m@cBeDsD_HoBqDuByDaAiB                                                       m@gAqAcCm@iAc@y@iAyBgBeDmCcFcB}CsAeCq@oAq@qAmAyBg@_AsAaCcCsEwDeHq@oAq@mAo@oAqBuD                                                       sBwDqA_CoA_C_DaGqBsDaB}CU_@kAaCsB}DqAcCqBuDqCkFwFeKsFeK_DaGmCcF{EcJ_CmEaD_GaDaGa                                                       JwPcCuEgCwEiDoGQYgBeD_@s@cAmBs@sAaHmMmMcVuB}Dq@qAq@oAq@qAgCwEuAgCs@qAcIgO}BiE{Fm                                                       K_@q@_@q@_@s@s@sA_@s@i@cACEeE{HaFiJSc@oF_KgAwBw@_Bu@}AM[mBmE]{@o@wAy@sBq@_B}@wBQ                                                       a@m@wA}@wBo@}Ac@gAw@mB_@{@q@cBUg@aAaCaA_CeBgEiAqCmAuCwh@ipAc@gA?Aw@kBcSif@{DoJef                                                       @mkA}R_f@gDeIaC_G_CyFeBeEwAoDoA}DiA}DgIi[{Owm@Uy@oQwq@mKea@gRcm@aOyc@{CqJyAyEsJc                                                       ZcG{RmDuKyB_HySgq@qHgVsJm[oG_Ts@}BqGkSyHoVyHoVoNqd@gEkN{Ku\\\\qBgGwG_S_EsLy@gC}A                                                       qEwCwIsA_EsAaEq@qBeBeFeFkOoF}OUs@qDwKwBgHqGgTkKc^qGuTgA{DoFoQ_A}C}F_SqByGeCoIcCm                                                       IcH{UkI_YmDwLyH{WcLk`@sEmOyA_FsAqE_@qAuDeMaCiI_Ke]eB{Fu@qCcAaDoH}Vc@sAo@eBYq@Wg@                                                       ]q@_@q@]q@w@oASYY_@q@{@k@q@y@y@eAaASQMK[UWQc@[YQ]Qc@Wa@QaAc@_@O]MsA][I}A[}Ew@}`@                                                       iGaAQc@Ia@Ia@IYGiA]e@O[MqAk@{@c@c@Y{@k@_@WWS_A{@c@c@]]c@e@[e@u@aAi@w@Ye@S]_@q@i@                                                       kAc@aAYu@[_AWy@Y{@sAmEmBmGuMyc@eCkImPuj@IWa^ulAaAeDQi@_BsF_DmKuBcHoAcEsDeMAAq@cC                                                       y@gCu@iCm@qBs@cCi@iBi@gBy@sCk@iBs@aCyA_Fe@_Bu@iCoFuQmBsGoBwGqAmEaCcI_C_IuA{E_A{C                                                       ACuBiHeAiDuAwEeBuFmA}DcAeDu@gC[aA_C{HcAoDs@gCaBuF}@}CgA{Dy@{C}AoFq@}BK_@Ss@{CcK_                                                       BqFM_@]qAgAoDm@wBcAgDoAeEe@_Bo@sBmAgEs@aCc@_By@uCmAiEiAuDgAuDiAaEqAoEUu@m@sBkBqG                                                       kAyD{@yCgAqDiAyD]iA]iAu@eC{ByH_DoKiCyIiBiGuA}EqByG_BmFgBcGkBkGoD_Mu@eCiC{I{@wC_A                                                       }C{CcKiCuI{AcF{AaFeAkDa@oAq@}BcByFsBwGmBwGoDwLaGcS{EiPIWyAaFeGoS_@oA_EeNs@cC{GgU                                                       gAqDcCkIyAaFqCoJiBqGsAkFMc@qGuWwA}F{@aDwEiRU{@Mk@mCuK{DuOyB{IOi@{AeGoBkIkLod@mDg                                                       OyEmRw@}CaEuOoKsb@?AaC{Jw@_Dq@kCmCsK_DiM{FcVm@oCMs@Mo@WwAw@aFa@sCg@oD}AwKCOoEo[S                                                       sAqBgNm@gEy@eGaAgHoAeJu@gFe@eDgAuHOqAS_BOaBOqAQmBMkBKcBIoBGsBEqB?mA@oA@uBDgCFwBF                                                       aBBe@HoAFcAHcALqAP{ANqA^sCRqANy@Hg@VmA^aBVeAj@qBh@eBPq@@AlIoYzEaPpJc\\\\|B{H^sAb                                                       EcN|A{FBEFYlGsTDKzCiL|@}Ct@oC`AaEt@_Dr@iDp@gDn@gDj@iDv@gFl@iEh@mE^oDXsCZqD\\\\kE                                                       RwCLqBFqAHwANaEJuCJsENoGRiJ^mOPcINyFN}GTuJZ}MVuKb@sQPiIHsDBcB@aA?mAAwCCwBOkJMgKG                                                       _DAsACuAKeGOmJMmHKmGMuHKiGAqAKyFKcGEcCKoHMkIKqHG{CCoAImFEaBGyAU_FAUG}@g@kFa@sDWq                                                       BKo@SsAG_@GYWuAOw@WsAe@qBYkASy@YeAw@kCeAkDu@gC_BgFyAaFyA{E{BqHqAiEmAaEsAmEeB{FoA                                                       gEs@cCmFgQ}BuH}@yCK_@i@oB[qAa@oBWuAMy@Kq@U}AOwAOyAKwAG{@G}@GyAE{ACwACaB?EGmFEiEC                                                       uDUuVU}SAw@EgFM_NCcEEyEUsRI_I]g^C_DQwNOgNCeBGqBI{AMiBWwC]eD_AeJkAsL_AcJq@qGImAMm                                                       Au@yHmAiL?AgAaLo@wG_@yD]{COiAOcAk@wCi@{Bs@kCk@gB}AcFcCcIkBiGiGmSuCoJuMac@s@_CoCi                                                       JkBwFqLm`@qAeEeQal@_HeUg@_B{DwMq@yB[cAiB}FcAgD_@sAgAoDq@yBc@{AQg@qGiTmAeE{@sCo@w                                                       B[}@oAcEm@mBs@sBYq@c@kAk@uAeAuBu@gB_F{LkAwCqA}CyAuDoJ{UkCqG_C_GoB_FqHaR_C{FO_@cC                                                       gG{BwFYq@}B{F}ByFoB}E_C}FoB_FwAoDiAsC}BwFa@gAw@wB}@{B{BwFkAsCiAsCwAmD}@{BuAmD}Cc                                                       IsAoDy@_CyJiXyJkXKYqAmD{AgEq@iBcAsCe@qAy@{B{AiE_BkEeAuCeAuCo@eBcAuC}@cCa@iAy@}Bg                                                       AyCeAuC{@_Cy@{By@_C{@_CeKeYWs@eB_FiBcFqD}J_CuGiBaFaCwGgAwCoAmDiBeFwIgV_BqEaC{GqA                                                       qDcFgNIW_AiCISoCqHiGyPgHwRm@aBo@eBo@cBc@kAe@gAYq@g@gAYm@{@cBcAiB}@wAk@aA]g@_@i@[                                                       e@a@i@q@}@_@c@q@{@s@{@eD{DsLoNcBoBaAkAaAkAaAmAs@{@o@{@o@{@e@q@IMg@w@c@u@e@u@w@wA                                                       aAkBu@}Aw@kBcAkCYw@s@qBc@wAu@cCIUsQsl@iAsDq@}Bc@sAs@cCW{@}@{Cq@_CSq@g@cBmBsG_BsF                                                       _@qAw@mC_CgIgDiL_A_DsAwEiAwD_BwFo@wBiAyDu@cCs@eCk@mBs@cCe@}Ac@yAq@aCk@mBu@eC]oAm                                                       @wBm@qB_@kAW_A}@}C_@qAk@iB]oA{@uC_AcDs@cCgBgGsCwJqAoE}BaIsAuEqAoEkLw`@wAaFsBeHqA                                                       sE}AoFsAsE{AoFiBiGqAuEsAuEgBiGwEiPgC}IoDeMgBiGs@eC_BcG}@gDcBoGaG{TKa@kBcHuBaImFg                                                       S_DmLwBeIq@eCg@iBWw@Uo@Qc@Sc@Ym@Sa@Uc@Wa@U]U[Y_@]c@c@e@e@c@a@]USYQ[Ue@Y{Ay@gB_A}                                                       C_BkCuAqAq@KESMeB}@aB}@oAq@e@[e@]c@]e@a@q@w@QUQU]e@MSIKa@u@]o@Q_@Ug@Qa@Si@gAsC}@                                                       _Cy@wBoFqNkCaH}DiKcCsGaBiEsAmDM[cCqGy@wBeBoEkBaF_BeEsCmH_CgGqBmFeCsG_BcEACiAwCc@                                                       kAWq@eCsGqCkHcCsGiAsCiCoGWk@[q@e@cA'},\n",
       "       'start_location': {'lat': 44.7393229, 'lng': -75.50066799999999},                                                       \n",
       "       'travel_mode': 'DRIVING'},\n",
       "      {'distance': {'text': '67.6 km', 'value': 67599},\n",
       "       'duration': {'text': '46 mins', 'value': 2732},\n",
       "       'end_location': {'lat': 45.46434350000001, 'lng': -73.6073437},\n                                                       ",
       "       'html_instructions': 'Continue onto <b>Autoroute du Souvenir</b>/                                                       <b>Autoroute 20</b><div style=\"font-size:0.9em\">Entering Quebec</div>',\n",
       "       'polyline': {'points': 'iw|rGvcxdMqC_GqAoCe@aA{AeDACsAqCmDoHwGmNc                                                       HcOcEsIu@aB_AqBaBkDwBsEsBkEUe@iB{DoAgCk@mAs@sAw@_BqAkCo@mAOY{@kBO_@O_@Wo@a@oAM_@                                                       I[IWK_@EQU{@WoAWwAa@{BUsA_@}BcGu^k@gDyAoIaGg]aBoJY}Ak@yCa@sB_@cBc@gB_@sA_@qAg@eB                                                       k@cBOg@Sg@e@mAy@qBo@}Aq@_Be@kA{@qB]y@mAwCg@kAmAyCaP_`@}@sBs@eBo@}Aq@_Bs@eBGOyAmD                                                       yDeJ]}@aBgEyCaIaFsMkCeHkCcHiDcJw@qBkCcHwB{FoCcHeBwEuCyHcCoGaCqG}AaEe@mAiCcHmCiHe                                                       DoIcA_CmAsCUe@oJwRaC}E}B{E{AyCu@{AwBoEKWaAwBUe@uAaDcAgC}@aCk@}AeA}Cu@{Bs@}BYw@}M                                                       gb@Us@c^yhAc@sA}@qCqA_EcAcDyB}Gu@_Ci@aBc@kAw@oBSe@Uk@y@gBcBeDi@aAs@mA_@o@e@w@e@s                                                       @a@k@]e@a@i@aAmAa@i@cC_De@m@MOiIwJ_d@sj@kAwA_O_RQUsNiQ[a@}BsCup@uy@sDqEuC}DY[W]s                                                       CiDmBcCc@m@kBgCYc@oB}Ci@}@wAqBcA_BoE_HwBgDkBuCs@eAu@mAiBsCiDmFw@oAw@qAe@{@EGi@eA                                                       }@gB{@kBeAeCg@sAsEuMcBcFcGmQsIgW_B{E}AuEqGiRgBqFgAaDw@kC]eAm@oBqAeEgB{FiAsDyEqOi                                                       EiN{Sqq@{EyOAEyLi`@Mc@{A}EuMwb@gAgDAEm@sBaAyCiB_GiGiS}DiMaDiKgB}FwBcHeBwFyBeHMa@                                                       a@oA}Qam@iEgNu@eCuAqEoDiL_BkFUs@GQoQ{k@_AwCoBoGqPwi@sG}S}C}Ja@iA_BaFmA{DaAsCKYsD                                                       qLuAsEkDcLoEyN_BgFy@iCs@mBu@mB_AaCcA_CqAoC{AwCu@wAi@aAaA_BgDiFgBmCw@iAsB{CwH}KaD                                                       wE}BiDqAoBOSoAkBmAmB[e@k@}@oAsBS]gAgBiCgEmAsB{AeCkDyFuBoDqBeDWc@EEMUc@s@w@qAaG{J                                                       mEkHaBmCS]_AwAs@cAa@m@{@aAMMg@g@q@o@aAy@_DgC}AoAkCwB][IIYYuAuA}BgDu@oAUc@m@oA_A{                                                       Bm@_BcBmEkBeFi@yAKYUm@g@wAMYm@{AcAkCw@oB_@aACEa@eAYo@eDqIu@qBSk@w@mBa@iAcAmCk@}A                                                       }AwDgAeCWo@a@}@i@mAi@kAWm@e@gA[y@o@yAeAiCcAiCgAqCa@}AQ}@QoAEi@ASG}AEmC[kSGgEMiHE                                                       _BCaDa@iUAm@Am@EgDIkEKgCEmAIgBIqAMeBQkCc@_Fi@yFmAoMUqBKy@OyAIi@Ku@SuAGWWgB]qBg@m                                                       Cc@sBYkAo@qCwAsF{BcJwHwZq@kCaAyDi@sBG[uAsF[mAW{@W_AWq@IUq@}Ag@gAk@eAMWw@qAEGg@u@                                                       Yc@[_@g@k@]e@}AsAu@o@}E_E}AoAgA{@y@m@eAy@_BmAeBwAqAiAwBqB}AsAkAaAIKi@c@ECQOgLoJG                                                       ECCMK[YCAKKe@]g@e@w@u@[_@c@g@QWQWq@cAk@eAg@eAQa@g@kAa@gA[}@W}@Og@U_AS{@QaAUsASqA                                                       _AiHa@sCQiACSIk@OaAQsASsAUuAQaASaAS{@cAsDc@oA_@kAa@kAa@oA_@mA_@qAe@eBw@yC_AuDI_@                                                       uAsFiAmEq@oCq@kCk@{Bi@yBa@eBU{@yAmGw@aDq@mCaA{DuDyNm@{BwAsFiAiEYaACKYgAcAiDiAiEw                                                       AqFiC_KYeAYeAkF{S{@oDmA_Fo@iCoBsH}AgGuAmF{@gDgAkEi@{Bs@gD_@iBe@}Ba@aCg@sC[mBm@aE                                                       WoB[cCUkB]yC[}CWyCSoBUeCSsBEg@O{AGg@[yC]sD_@kEg@yFmAiNYeD_AyKYaDc@}ESiC]mE]wE]cE                                                       [qDaAiLs@iIo@cHeA}L_AsKa@iEi@kGc@eFMuAg@wFEg@IwAMuA_@cDq@sFy@cGu@oEaAkF_AmF}AuIo                                                       @iDsEqWG_@Ie@ACIa@kAwGoDqSiBcKOy@uEyVqA_HiAoGa@{Bi@wCiCoNm@}DmAeI_CyOaAcHm@_FYaC                                                       gAaKsC}Va@gD_AgIaAuG_@sBKm@g@aCq@wCWcAe@cBq@}B_A{CcBsFwAqE_DaKiAoDs@_CYiAgAeEEO[                                                       }Am@{C[mBYgBg@kD_@}CU}B_@aFWcE[yFKaCGsAOgEEoAMqFCoAAaBAgDAmA@uGHaN?]DgF@uA?OF}IL                                                       }SRoa@h@sbAFqNBsB@iD?uBDiDH{CJ{CRyCDo@BWDg@t@wHd@_EdA}Jd@uE@EN}APwAFw@HaABs@Bq@B                                                       y@@_@@{@?s@Am@A{@Am@GeAEs@Gk@AI?EGc@Im@Mq@g@uCQeAi@wCa@aCMq@WyAMw@QsAKcAOcBEs@Es                                                       @Ae@A]?Q?k@?_ABwBB_CBkCBcD?qAFiJ?}AB{FBiG@uC@{@@yAJcQ?}@?C@_AFeLDqIBkF@_CBqC?oA@                                                       yAH_MDaJRe]H{NB}FHcKFsGDkG?q@DsGBqB?K@mB@kBF_FDyBJuEJaDLkEDcBFqCF{BBwBDaDBqE@yA@                                                       sCBsFBcFF_JF}L@cCB_F@wABuD@qABm@@i@Be@Ba@Fw@H{@JeANeAN_AJm@P{@RcANk@Ts@r@cCd@aBl                                                       BgGl@oBJ_@j@sBb@cB\\\\{AlAyFvEcU\\\\iBHg@TyANeAXsBRgBHeAHoAFiC@q@h@qQBoA?U?Q?W?k                                                       AAy@Cs@Cm@Ca@AIUsBO_AOy@[uASs@Oc@EMIQOc@CGGOCESg@[cA{@mC?Ao@sCaDuIkBcFmBaEeA}BwD                                                       _IsAsC}@oBkA}BuAkCi@iA[w@Me@Ga@Ig@a@eDKk@Kk@YeAy@eDUq@So@c@q@S[a@e@UUa@_@aAw@uBe                                                       B}@}@u@s@o@{@sAgBeC{DsCsEeFqIgBwCiBwCeBwC]i@}EmIeAuB}ByEaCuFm@cBm@cB{AmEkCkJ}@sD                                                       qGqTgAcDgCgIs@wB'},\n",
       "       'start_location': {'lat': 45.2083667, 'lng': -74.3482841},\n",
       "       'travel_mode': 'DRIVING'},\n",
       "      {'distance': {'text': '4.0 km', 'value': 4006},\n",
       "       'duration': {'text': '3 mins', 'value': 203},\n",
       "       'end_location': {'lat': 45.4909616, 'lng': -73.5747162},\n",
       "       'html_instructions': 'Keep <b>left</b> to continue on <b>Autorout                                                       e 720 E</b>',\n",
       "       'maneuver': 'keep-left',\n",
       "       'polyline': {'points': 'cwntGzlg`MmJoUcCwJ_@w@w@}Aq@kAk@}@a@k@oC}                                                       Cu@k@uAgAsAmAiAu@aAm@o@WMI_Aa@w@]m@u@[[_@]i@YWM_C}@UIm@QmC}@sAg@eDy@oDw@kCy@gBgA                                                       e@Ws@g@_Au@w@}@y@aA{@sA_BkCa@{@a@{@{C{Fg@{@g@}@k@eAcR{]IQKOo@mA_@k@i@}@s@iAiBiDy                                                       AqCO[IOGKQa@cBwCq@kAq@kAcA_Bk@cAqAkBmBsC_@g@a@g@sAiBaGgI'},\n",
       "       'start_location': {'lat': 45.46434350000001, 'lng': -73.6073437},                                                       \n",
       "       'travel_mode': 'DRIVING'},\n",
       "      {'distance': {'text': '0.8 km', 'value': 844},\n",
       "       'duration': {'text': '1 min', 'value': 74},\n",
       "       'end_location': {'lat': 45.49581389999999, 'lng': -73.56693980000                                                       001},\n",
       "       'html_instructions': 'Take exit <b>4</b> toward <b>Rue de la Mont                                                       agne N</b>/<b>Rue Saint-Jacques</b>',\n",
       "       'maneuver': 'ramp-right',\n",
       "       'polyline': {'points': 'o}stG~`a`MG[A?SY_AwAiEgGa@s@}@aBs@yAWo@_@                                                       sA[qAGUs@sBUu@YeAcBcHK]IMUUSOIEMIUE[@QAO?IAGAEACAGCGEEEKM'},\n",
       "       'start_location': {'lat': 45.4909616, 'lng': -73.5747162},\n",
       "       'travel_mode': 'DRIVING'},\n",
       "      {'distance': {'text': '65 m', 'value': 65},\n",
       "       'duration': {'text': '1 min', 'value': 13},\n",
       "       'end_location': {'lat': 45.4961802, 'lng': -73.5675859},\n",
       "       'html_instructions': \"Turn <b>left</b> onto <b>Rue Jean d'Estrée                                                       s</b>\",\n",
       "       'maneuver': 'turn-left',\n",
       "       'polyline': {'points': 'y{ttGjp_`Mw@xAKXEL'},\n",
       "       'start_location': {'lat': 45.49581389999999, 'lng': -73.566939800                                                       00001},\n",
       "       'travel_mode': 'DRIVING'},\n",
       "      {'distance': {'text': '0.3 km', 'value': 295},\n",
       "       'duration': {'text': '1 min', 'value': 67},\n",
       "       'end_location': {'lat': 45.49822349999999, 'lng': -73.56518009999                                                       999},\n",
       "       'html_instructions': 'Turn <b>right</b> onto <b>Rue Saint-Antoine                                                        O</b>',\n",
       "       'maneuver': 'turn-right',\n",
       "       'polyline': {'points': 'c~ttGlt_`M_AoAaAoAKKYQgB_CgAwA_AkA'},\n",
       "       'start_location': {'lat': 45.4961802, 'lng': -73.5675859},\n",
       "       'travel_mode': 'DRIVING'},\n",
       "      {'distance': {'text': '0.5 km', 'value': 529},\n",
       "       'duration': {'text': '2 mins', 'value': 144},\n",
       "       'end_location': {'lat': 45.5009454, 'lng': -73.57075139999999},\n                                                       ",
       "       'html_instructions': 'Turn <b>left</b> onto <b>Rue Mansfield</b>'                                                       ,\n",
       "       'maneuver': 'turn-left',\n",
       "       'polyline': {'points': '{jutGje_`MIPM^_B~DUj@GRmB~E}A`EO^KZ]|@gAp                                                       CSf@i@pA'},\n",
       "       'start_location': {'lat': 45.49822349999999, 'lng': -73.565180099                                                       99999},\n",
       "       'travel_mode': 'DRIVING'},\n",
       "      {'distance': {'text': '0.2 km', 'value': 243},\n",
       "       'duration': {'text': '2 mins', 'value': 91},\n",
       "       'end_location': {'lat': 45.5027516, 'lng': -73.5689958},\n",
       "       'html_instructions': 'Turn <b>right</b> onto <b>Rue Cathcart</b>'                                                       ,\n",
       "       'maneuver': 'turn-right',\n",
       "       'polyline': {'points': '}{utGdh``MsAyAQKQQ}@{@gAcAEGk@g@GGYYUS'},                                                       \n",
       "       'start_location': {'lat': 45.5009454, 'lng': -73.57075139999999},                                                       \n",
       "       'travel_mode': 'DRIVING'},\n",
       "      {'distance': {'text': '0.2 km', 'value': 181},\n",
       "       'duration': {'text': '1 min', 'value': 70},\n",
       "       'end_location': {'lat': 45.5017123, 'lng': -73.5672184},\n",
       "       'html_instructions': 'Turn <b>right</b> onto <b>Boulevard Robert-                                                       Bourassa</b>',\n",
       "       'maneuver': 'turn-right',\n",
       "       'polyline': {'points': 'egvtGf}_`MLQ`@w@b@iAh@oAN[Zs@PWRW'},\n",
       "       'start_location': {'lat': 45.5027516, 'lng': -73.5689958},\n",
       "       'travel_mode': 'DRIVING'}],\n",
       "     'traffic_speed_entry': [],\n",
       "     'via_waypoint': []}],\n",
       "   'overview_polyline': {'points': 'e`miGhmocN{OiAsAiLeDwh@qLmn@oJir@sC}                                                       RyGpCqd@xJsXlSeq@dKgb@gIa]cMcc@}r@I_x@oU{g@_a@mSeb@}b@kQ_AmXzScoBxTwvBbR{u@tHiL}                                                       NeC}bBkP}hBipA{xJai@ipBsYwcB{]eeFxUknAtCug@}Iq`@cfAyoB}pBu~DqpA{oDyc@coA{Rw{Aig@                                                       gpDk}@wjGeIocBxDukBeBmzBmhAebHuo@msEoCeiAbIyq@pu@ugBdFis@kZs{Eoe@obH{aAi{CkZyoE}                                                       a@kxGwwCcuUyvEmk]}a@svI}iAcoHrV}cBeGmcCu^koBui@gbBaBwiAsTus@ao@afC~FwbEd^{wAwA_h                                                       AeqAmuLup@{iKgp@qaGo}@g`Dwf@}qBqVqy@o]w^ea@ggBgR{~Ba^{u@{r@}}@yKsfAc^q_Diy@e|Csw                                                       @}vAam@}~Cc~@cwC_EawA_Jg`Cww@wlBaeBizEwdBkdFulBmqLgiB{_Lo|@_`DirAq{IoOsnAnG}gAjS                                                       qcB{_@ssFccB}uUwzA}xSkqA{yF`EsiAyAqu@_b@iuB_LodEsSidH}Vo~P{X}zOmNizKcNggBxdA_tDh                                                       ^iaDzW}uBr@kuAy[w{@qj@_iCeb@ksC}~@s_Caj@yn@ymAssDgk@egIgSafGaYccGsFswA{\\\\kzAki                                                       @grFeImhBvJa`AZitAo`@k`Ckz@qbDymBusG_PebCrCivBqLqcAmi@afDceAwkBk[ynAsaAmzAck@ip@                                                       {`AgeBwnBam@m}AeeA{`B}pAqxBc~B_`B{bB}^cvBnCe_Cy|@s`CknBeEqb@mYopA{{BabBk`AmvAy|C                                                       kqDo~FavAq|BuoAqhB}cJmkLoe@qt@gWyuAs[akAufEegHak@s_Awg@e^qnAo}@ctG_yLy}EmjJ{}Bov                                                       F_k@qwA}aBi_G{dCuaIkjA{kDkeDm}KwPcQ_}@_QqSwQarAakEuqAkmEkwCw}JuvBkyHuhBuyI}Dcy@`                                                       Hog@r{@gyCtSavAhE}_GsQ}jC{q@esC}VkqH_yBizH}gBqxEwoEuzLm|@}oAomAu{Dw`De}Keo@ke@yy                                                       AezD_sAqsCgo@c|CykB{zEq{B}gGknD{wEqh@av@qt@giB{oCy{IamCwoIgwCivE}h@m}AcSseD{^wsA                                                       g^c]cp@wt@geBqhHc]yeD_w@ozFo~@sbFmJgjAnBkkEnHazAqFweB`E}gFjLk~BdRodAq@kj@qk@m~Ak                                                       b@al@}u@ymBwh@q~@sg@kSmdA_fBqk@ccAwKaF}VzYcAgR'},\n",
       "   'summary': 'ON-401 E',\n",
       "   'warnings': [],\n",
       "   'waypoint_order': []}],\n",
       " 'status': 'OK'}"
      ]
     },
     "execution_count": 18,
     "metadata": {},
     "output_type": "execute_result"
    }
   ],
   "source": [
    "result"
   ]
  },
  {
   "cell_type": "code",
   "execution_count": null,
   "metadata": {},
   "outputs": [],
   "source": []
  }
 ],
 "metadata": {
  "kernelspec": {
   "display_name": "Spark2.3-python3",
   "language": "python",
   "name": "spark2.3-python3"
  },
  "language_info": {
   "codemirror_mode": {
    "name": "ipython",
    "version": 3
   },
   "file_extension": ".py",
   "mimetype": "text/x-python",
   "name": "python",
   "nbconvert_exporter": "python",
   "pygments_lexer": "ipython3",
   "version": "3.7.2"
  }
 },
 "nbformat": 4,
 "nbformat_minor": 2
}
